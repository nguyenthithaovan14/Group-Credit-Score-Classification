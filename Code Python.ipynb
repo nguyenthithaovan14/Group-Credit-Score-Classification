{
 "cells": [
  {
   "cell_type": "code",
   "execution_count": 15,
   "id": "4f809376",
   "metadata": {},
   "outputs": [
    {
     "name": "stderr",
     "output_type": "stream",
     "text": [
      "C:\\Users\\thaov\\AppData\\Local\\Temp\\ipykernel_16184\\1727765620.py:9: DtypeWarning: Columns (26) have mixed types. Specify dtype option on import or set low_memory=False.\n",
      "  df = pd.read_csv(\"C:/Users/thaov/Downloads/Quản trị dữ liệu với APACHE SPARK/credit score classification/train.csv\")\n"
     ]
    },
    {
     "name": "stdout",
     "output_type": "stream",
     "text": [
      "       ID Customer_ID     Month           Name   Age          SSN Occupation  \\\n",
      "0  0x1602   CUS_0xd40   January  Aaron Maashoh    23  821-00-0265  Scientist   \n",
      "1  0x1603   CUS_0xd40  February  Aaron Maashoh    23  821-00-0265  Scientist   \n",
      "2  0x1604   CUS_0xd40     March  Aaron Maashoh  -500  821-00-0265  Scientist   \n",
      "3  0x1605   CUS_0xd40     April  Aaron Maashoh    23  821-00-0265  Scientist   \n",
      "4  0x1606   CUS_0xd40       May  Aaron Maashoh    23  821-00-0265  Scientist   \n",
      "\n",
      "  Annual_Income  Monthly_Inhand_Salary  Num_Bank_Accounts  ...  Credit_Mix  \\\n",
      "0      19114.12            1824.843333                  3  ...           _   \n",
      "1      19114.12                    NaN                  3  ...        Good   \n",
      "2      19114.12                    NaN                  3  ...        Good   \n",
      "3      19114.12                    NaN                  3  ...        Good   \n",
      "4      19114.12            1824.843333                  3  ...        Good   \n",
      "\n",
      "   Outstanding_Debt Credit_Utilization_Ratio     Credit_History_Age  \\\n",
      "0            809.98                26.822620  22 Years and 1 Months   \n",
      "1            809.98                31.944960                    NaN   \n",
      "2            809.98                28.609352  22 Years and 3 Months   \n",
      "3            809.98                31.377862  22 Years and 4 Months   \n",
      "4            809.98                24.797347  22 Years and 5 Months   \n",
      "\n",
      "   Payment_of_Min_Amount Total_EMI_per_month Amount_invested_monthly  \\\n",
      "0                     No           49.574949       80.41529543900253   \n",
      "1                     No           49.574949      118.28022162236736   \n",
      "2                     No           49.574949         81.699521264648   \n",
      "3                     No           49.574949       199.4580743910713   \n",
      "4                     No           49.574949      41.420153086217326   \n",
      "\n",
      "                  Payment_Behaviour     Monthly_Balance Credit_Score  \n",
      "0   High_spent_Small_value_payments  312.49408867943663         Good  \n",
      "1    Low_spent_Large_value_payments  284.62916249607184         Good  \n",
      "2   Low_spent_Medium_value_payments   331.2098628537912         Good  \n",
      "3    Low_spent_Small_value_payments  223.45130972736786         Good  \n",
      "4  High_spent_Medium_value_payments  341.48923103222177         Good  \n",
      "\n",
      "[5 rows x 28 columns]\n",
      "ID                              0\n",
      "Customer_ID                     0\n",
      "Month                           0\n",
      "Name                         9985\n",
      "Age                             0\n",
      "SSN                             0\n",
      "Occupation                      0\n",
      "Annual_Income                   0\n",
      "Monthly_Inhand_Salary       15002\n",
      "Num_Bank_Accounts               0\n",
      "Num_Credit_Card                 0\n",
      "Interest_Rate                   0\n",
      "Num_of_Loan                     0\n",
      "Type_of_Loan                11408\n",
      "Delay_from_due_date             0\n",
      "Num_of_Delayed_Payment       7002\n",
      "Changed_Credit_Limit            0\n",
      "Num_Credit_Inquiries         1965\n",
      "Credit_Mix                      0\n",
      "Outstanding_Debt                0\n",
      "Credit_Utilization_Ratio        0\n",
      "Credit_History_Age           9030\n",
      "Payment_of_Min_Amount           0\n",
      "Total_EMI_per_month             0\n",
      "Amount_invested_monthly      4479\n",
      "Payment_Behaviour               0\n",
      "Monthly_Balance              1200\n",
      "Credit_Score                    0\n",
      "dtype: int64\n",
      "       Monthly_Inhand_Salary  Num_Bank_Accounts  Num_Credit_Card  \\\n",
      "count           84998.000000      100000.000000     100000.00000   \n",
      "mean             4194.170850          17.091280         22.47443   \n",
      "std              3183.686167         117.404834        129.05741   \n",
      "min               303.645417          -1.000000          0.00000   \n",
      "25%              1625.568229           3.000000          4.00000   \n",
      "50%              3093.745000           6.000000          5.00000   \n",
      "75%              5957.448333           7.000000          7.00000   \n",
      "max             15204.633333        1798.000000       1499.00000   \n",
      "\n",
      "       Interest_Rate  Delay_from_due_date  Num_Credit_Inquiries  \\\n",
      "count  100000.000000        100000.000000          98035.000000   \n",
      "mean       72.466040            21.068780             27.754251   \n",
      "std       466.422621            14.860104            193.177339   \n",
      "min         1.000000            -5.000000              0.000000   \n",
      "25%         8.000000            10.000000              3.000000   \n",
      "50%        13.000000            18.000000              6.000000   \n",
      "75%        20.000000            28.000000              9.000000   \n",
      "max      5797.000000            67.000000           2597.000000   \n",
      "\n",
      "       Credit_Utilization_Ratio  Total_EMI_per_month  \n",
      "count             100000.000000        100000.000000  \n",
      "mean                  32.285173          1403.118217  \n",
      "std                    5.116875          8306.041270  \n",
      "min                   20.000000             0.000000  \n",
      "25%                   28.052567            30.306660  \n",
      "50%                   32.305784            69.249473  \n",
      "75%                   36.496663           161.224249  \n",
      "max                   50.000000         82331.000000  \n"
     ]
    },
    {
     "data": {
      "image/png": "[encoded data removed]",
      "text/plain": [
       "<Figure size 432x288 with 1 Axes>"
      ]
     },
     "metadata": {
      "needs_background": "light"
     },
     "output_type": "display_data"
    }
   ],
   "source": [
    "#tải thư viện\n",
    "import pandas as pd\n",
    "import matplotlib.pyplot as plt\n",
    "import os\n",
    "\n",
    "os.chdir(\"C:/Users/thaov/Downloads/Quản trị dữ liệu với APACHE SPARK\") #thư mục đang làm việc\n",
    "\n",
    "#Bước 1: Tải dữ liệu\n",
    "df = pd.read_csv(\"C:/Users/thaov/Downloads/Quản trị dữ liệu với APACHE SPARK/credit score classification/train.csv\")\n",
    "\n",
    "#Bước 2: Khai thác dữ liệu\n",
    "#xem một số dòng\n",
    "print(df.head())\n",
    "#kiểm tra dữ liệu lỗi\n",
    "print(df.isnull().sum())\n",
    "\n",
    "#xem thống kê dữ liệu\n",
    "print(df.describe());\n",
    "\n",
    "#lọc dữ liệu theo một sản phẩm cụ thể\n",
    "#product_a_data = df[df[\"Product\"] == \"Product A\"] \n",
    "\n",
    "#Bước 3: Trực quan dữ liệu cơ bản\n",
    "#Tao biểu đồ cho trường dữ liệu product\n",
    "product_sales = df.groupby(\"Credit_Score\")[\"Num_Credit_Inquiries\"].sum()\n",
    "product_sales.plot(kind = \"bar\", title = \"Total Sales by Product\")\n",
    "plt.xlabel(\"Điểm\")\n",
    "plt.ylabel(\"Số lượng\")\n",
    "plt.show()"
   ]
  },
  {
   "cell_type": "code",
   "execution_count": 16,
   "id": "054fe4ca",
   "metadata": {},
   "outputs": [
    {
     "data": {
      "image/png": "[encoded data removed]",
      "text/plain": [
       "<Figure size 432x288 with 1 Axes>"
      ]
     },
     "metadata": {
      "needs_background": "light"
     },
     "output_type": "display_data"
    }
   ],
   "source": [
    "product_sales = df['Credit_Score'].value_counts()\n",
    "product_sales.plot(kind = \"bar\", title = \"Total Sales by Product\")\n",
    "plt.xlabel(\"Điểm\")\n",
    "plt.ylabel(\"Số lượng\")\n",
    "plt.show()"
   ]
  },
  {
   "cell_type": "code",
   "execution_count": null,
   "id": "e95074d7",
   "metadata": {},
   "outputs": [],
   "source": []
  }
 ],
 "metadata": {
  "kernelspec": {
   "display_name": "Python 3 (ipykernel)",
   "language": "python",
   "name": "python3"
  },
  "language_info": {
   "codemirror_mode": {
    "name": "ipython",
    "version": 3
   },
   "file_extension": ".py",
   "mimetype": "text/x-python",
   "name": "python",
   "nbconvert_exporter": "python",
   "pygments_lexer": "ipython3",
   "version": "3.9.12"
  }
 },
 "nbformat": 4,
 "nbformat_minor": 5
}
